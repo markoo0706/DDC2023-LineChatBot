{
 "cells": [
  {
   "cell_type": "code",
   "execution_count": 47,
   "metadata": {},
   "outputs": [
    {
     "name": "stdout",
     "output_type": "stream",
     "text": [
      "(25.0221397, 121.549751, '106台灣台北市大安区基隆路二段270號2樓')\n",
      "(25.0254867, 121.5494205, '106台灣台北市大安區敦化南路二段265巷3號')\n",
      "(25.0201304, 121.5335261, '106台灣台北市大安區新生南路三段60巷3號')\n",
      "(25.0236612, 121.542976, '106台灣台北市大安區復興南路二段308巷5號')\n",
      "(25.0266707, 121.5397025, '106台灣台北市大安區瑞安街141號')\n"
     ]
    }
   ],
   "source": [
    "import pandas as pd\n",
    "df = pd.read_pickle(\"data.pkl\")\n",
    "resname = [i for i in df.keys()]\n",
    "itaRes = [i for i in resname if \"義\" in i]\n",
    "korRes = [i for i in resname if \"韓\" in i]\n",
    "japRes = [i for i in resname if \"日\" in i] #\n",
    "\n",
    "itaResname = ['亞廬義大利窯烤吃到飽餐廳', '月之義大利餐廳', '蘇活義大利麵坊', '卡帛素食烘培‧義式廚房‧港式餐點 總店', 'ANTICO FORNO 老烤箱義式披薩餐酒']\n",
    "japResName = ['鐵匠 鉄板居酒屋 TEPPAN IZAKAYA TESSHO', '爭鮮迴轉壽司 科技店', '角屋關東煮', 'ibuki 日本料理餐廳 -台北遠東香格里拉', '禾豐日式涮涮鍋']\n",
    "chiResName = ['莫宰羊-大安台大店', '小李子清粥小菜', '北平同慶樓', '阿玉水餃 (生水餃專賣店)', '紅豆食府 遠企店', '恬園餐廳 - 福華國際文教會館', '溫州大餛飩', '涮八方紫銅鍋' '瑞安豆漿大王' '阿英海產粥', '蔣記家薌麵', '熱翻天生猛海鮮', '忠誠山東蔥油餅 - 此燈亮有餅', '小李子蘭州牛肉拉麵館', '大連風味館', '龍門客棧餃子館 瑞安店', '老龍牛肉麵大王', '花麻辣 麻辣鴛鴦 沙茶火鍋', '小辣椒魷魚羹', '三顧茅廬台北四維店', '八方雲集 (師院店)', '通化街米粉湯50年老店（胡記復興旗艦店）','鳳城燒臘粵菜']\n",
    "\n",
    "def get_loc(resname):\n",
    "    lat = df[resname]['lat']\n",
    "    long = df[resname]['lng']\n",
    "    add = df[resname]['address']\n",
    "    return lat, long, add\n",
    "\n",
    "for i in itaResname:\n",
    "    print(get_loc(i))\n",
    "\n"
   ]
  },
  {
   "cell_type": "code",
   "execution_count": null,
   "metadata": {},
   "outputs": [],
   "source": []
  },
  {
   "cell_type": "code",
   "execution_count": null,
   "metadata": {},
   "outputs": [],
   "source": []
  }
 ],
 "metadata": {
  "kernelspec": {
   "display_name": ".venv",
   "language": "python",
   "name": "python3"
  },
  "language_info": {
   "codemirror_mode": {
    "name": "ipython",
    "version": 3
   },
   "file_extension": ".py",
   "mimetype": "text/x-python",
   "name": "python",
   "nbconvert_exporter": "python",
   "pygments_lexer": "ipython3",
   "version": "3.9.6"
  },
  "orig_nbformat": 4
 },
 "nbformat": 4,
 "nbformat_minor": 2
}

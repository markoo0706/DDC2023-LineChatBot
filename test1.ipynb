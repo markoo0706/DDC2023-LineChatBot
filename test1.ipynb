{
 "cells": [
  {
   "cell_type": "code",
   "execution_count": 7,
   "metadata": {},
   "outputs": [],
   "source": [
    "from placeFunc import findRestaurant, findNearBy\n",
    "import pandas as pd \n",
    "from placeFunc import findDetail\n",
    "from restaurant_score import restaurant_score\n",
    "from restaurant_tag import run_classification\n",
    "from getFunc import getTypeApi, getType, getInfo\n",
    "from geopy.distance import geodesic\n"
   ]
  },
  {
   "cell_type": "code",
   "execution_count": 39,
   "metadata": {},
   "outputs": [],
   "source": [
    "def getType1(lat, lng):\n",
    "    recommend_list = getTypeApi()\n",
    "    dist_list =  [[geodesic((lat, lng), (x['lat'], x['lng'])).km, x['recommend']] for x in recommend_list]\n",
    "    txt = min(dist_list)[1]\n",
    "    x = txt.replace(\" \", \"\")\n",
    "    resType1 = x[2:6]\n",
    "    resType2 = x[8:12]\n",
    "    resType3 = x[14:18]\n",
    "    return resType1, resType2, resType3"
   ]
  },
  {
   "cell_type": "code",
   "execution_count": 40,
   "metadata": {},
   "outputs": [
    {
     "name": "stdout",
     "output_type": "stream",
     "text": [
      "義式料理 中式料理 日式料理\n"
     ]
    }
   ],
   "source": [
    "lat, lng = 25.050758485425252, 121.55036644441967\n",
    "a, b, c = getType1(lat, lng)\n",
    "print(a, b, c)"
   ]
  },
  {
   "cell_type": "code",
   "execution_count": 41,
   "metadata": {},
   "outputs": [
    {
     "name": "stdout",
     "output_type": "stream",
     "text": [
      "橋頭麻辣鍋 - 台北東區 (人氣火鍋 港式鴛鴦火鍋 麻辣火鍋...\n",
      "['Snail 蝸牛義大利餐廳 民生店', '艾隆義式麵食館', 'PIZZA HUT必勝客-敦化餐廳店(歡樂吧)', '(台北國賓大飯店)A CUT牛排館', 'IKEA 瑞典餐廳 台北城市店', '吐司利亞 敦南店', '鬥牛士經典牛排（長安店）']\n"
     ]
    }
   ],
   "source": [
    "from getFunc import getType, getInfo\n",
    "from restaurant_score import restaurant_score\n",
    "\n",
    "lat, lng = 25.050758485425252, 121.55036644441967\n",
    "df = findRestaurant(lat, lng) # 爬取餐廳資料\n",
    "resType1, resType2, resType3 = getType(lat, lng)\n",
    "resInfo1, resInfo2, resInfo3 = getInfo(df, list(df.keys()), resType1), getInfo(df, list(df.keys()), resType2), getInfo(df, list(df.keys()), resType3)\n",
    "otherResName = [i for i in list(df.keys()) if i not in (resInfo1 + resInfo2 + resInfo3)]\n",
    "print(resInfo1)\n"
   ]
  },
  {
   "cell_type": "code",
   "execution_count": 42,
   "metadata": {},
   "outputs": [
    {
     "name": "stdout",
     "output_type": "stream",
     "text": [
      "義式料理\n",
      "中式料理\n",
      "日式料理\n"
     ]
    }
   ],
   "source": [
    "print(resType1)\n",
    "print(resType2)\n",
    "print(resType3)"
   ]
  },
  {
   "cell_type": "code",
   "execution_count": 43,
   "metadata": {},
   "outputs": [
    {
     "name": "stdout",
     "output_type": "stream",
     "text": [
      "['Snail 蝸牛義大利餐廳 民生店', '艾隆義式麵食館', 'PIZZA HUT必勝客-敦化餐廳店(歡樂吧)', '(台北國賓大飯店)A CUT牛排館', 'IKEA 瑞典餐廳 台北城市店', '吐司利亞 敦南店', '鬥牛士經典牛排（長安店）']\n",
      "['橋頭麻辣鍋 - 台北東區 (人氣火鍋 港式鴛鴦火鍋 麻辣火鍋...', '海真私房菜民生店', '祥福餐廳', '吉品海鮮餐廳 敦南店', '蜀辣', '犂園湯包館', '(台北國賓大飯店)A CUT牛排館', '兄弟大飯店', '吉比鮮釀餐廳 - 敦北店', '小上海林師傅', '小龍飲食', '十二籃粥火鍋 敦北店', '薔薇廳', '香港茶水攤 南京店', '上海小籠包', '春水堂 光南店', '咖啡弄 敦化店 Coffee Alley (Dunhua)', '萬有全涮羊肉']\n",
      "['吳留手串燒居酒屋 市民店', '三井日本料理(敦化料理美術館)', '藝奇 日本料理岩板燒 台北敦化北店', '伊薩姆日式料理', '大戶屋 微風廣場店', '勝田日式豬排專門店', '多田壽司屋', '壺同燒肉夜食-胡同燒肉3號店', '宇澤小舖', '古月同燒肉夜食-胡同燒肉2號店', '新濱鐵板燒', 'CHIFFON手工蛋糕店', '長壽三好庵']\n",
      "['慶州館', '西班牙小酒館HESTIA TAPAS BAR', '王品牛排台北南京東店', 'HOOTERS美式餐廳 慶城店', 'Jolly手工釀啤酒泰食餐廳 慶城店', '市民大道涮涮鍋（市民總店）', '一品 花 雕 雞 市民旗艦店', '泰鼎泰式料理', '博多拉麵 市大店', 'The Brass Monkey 銅猴子復興店', '韓江烤肉', '村子口', '四鄉五島馬祖麵店', '韓食堂한식당', '先進海產店', '慶城海南雞飯', '茹絲葵美式牛排', '胡同燒肉夜食-胡同燒肉1號店', '十二燒 串酒館（延吉街）', '肯德基 台北中山餐廳', '鍋爸涮涮鍋', '摩斯漢堡 敦北店']\n"
     ]
    }
   ],
   "source": [
    "print(resInfo1)\n",
    "print(resInfo2)\n",
    "print(resInfo3)\n",
    "print(otherResName)"
   ]
  },
  {
   "cell_type": "code",
   "execution_count": null,
   "metadata": {},
   "outputs": [],
   "source": []
  }
 ],
 "metadata": {
  "kernelspec": {
   "display_name": ".venv",
   "language": "python",
   "name": "python3"
  },
  "language_info": {
   "codemirror_mode": {
    "name": "ipython",
    "version": 3
   },
   "file_extension": ".py",
   "mimetype": "text/x-python",
   "name": "python",
   "nbconvert_exporter": "python",
   "pygments_lexer": "ipython3",
   "version": "3.9.6"
  },
  "orig_nbformat": 4
 },
 "nbformat": 4,
 "nbformat_minor": 2
}
